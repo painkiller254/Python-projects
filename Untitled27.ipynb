{
 "cells": [
  {
   "cell_type": "code",
   "execution_count": 2,
   "id": "9e82e10a",
   "metadata": {
    "scrolled": false
   },
   "outputs": [],
   "source": [
    "import hashlib\n"
   ]
  },
  {
   "cell_type": "code",
   "execution_count": 3,
   "id": "b058806c",
   "metadata": {},
   "outputs": [
    {
     "name": "stdout",
     "output_type": "stream",
     "text": [
      "Block 1 data: Noah sends 5 GC to Mark - Mark sends 2.3 GC to James - firstblock\n",
      "Block 1 hash: 01e4e15242a9601725f4a86ca01fbddaaec7105b442955bb0efcadbfc759806d\n",
      "Block 2 data: James sends 4.2 GC to Alisson - Alisson sends 1.1 GC to Noah - 01e4e15242a9601725f4a86ca01fbddaaec7105b442955bb0efcadbfc759806d\n",
      "Block 2 hash: 448c4306caf7f6937b0307f92f27fbea3bb73b3470363dee5026a1209dadcfa8\n"
     ]
    }
   ],
   "source": [
    "class GeekCoinBlock:\n",
    "    \n",
    "    def __init__(self, previous_block_hash, transaction_list):\n",
    "\n",
    "        self.previous_block_hash = previous_block_hash\n",
    "        self.transaction_list = transaction_list\n",
    "\n",
    "        self.block_data = f\"{' - '.join(transaction_list)} - {previous_block_hash}\"\n",
    "        self.block_hash = hashlib.sha256(self.block_data.encode()).hexdigest()\n",
    "        \n",
    "t1 = \"Noah sends 5 GC to Mark\"\n",
    "t2 = \"Mark sends 2.3 GC to James\"\n",
    "t3 = \"James sends 4.2 GC to Alisson\"\n",
    "t4 = \"Alisson sends 1.1 GC to Noah\"\n",
    "\n",
    "\n",
    "block1 = GeekCoinBlock('firstblock', [t1, t2])\n",
    "\n",
    "print(f\"Block 1 data: {block1.block_data}\")\n",
    "print(f\"Block 1 hash: {block1.block_hash}\")\n",
    "\n",
    "block2 = GeekCoinBlock(block1.block_hash, [t3, t4])\n",
    "\n",
    "print(f\"Block 2 data: {block2.block_data}\")\n",
    "print(f\"Block 2 hash: {block2.block_hash}\")\n",
    "\n"
   ]
  },
  {
   "cell_type": "code",
   "execution_count": 5,
   "id": "fad30819",
   "metadata": {},
   "outputs": [],
   "source": [
    "t2 = \"Mark sends 3.2 GC to James\" "
   ]
  },
  {
   "cell_type": "code",
   "execution_count": 6,
   "id": "5f0abbd1",
   "metadata": {},
   "outputs": [],
   "source": [
    "# main.py\n",
    "\n",
    "class Blockchain:\n",
    "    def __init__(self):\n",
    "        self.chain = []\n",
    "        self.generate_genesis_block()\n",
    "\n",
    "    def generate_genesis_block(self):\n",
    "        self.chain.append(GeekCoinBlock(\"0\", ['Genesis Block']))\n",
    "    \n",
    "    def create_block_from_transaction(self, transaction_list):\n",
    "        previous_block_hash = self.last_block.block_hash\n",
    "        self.chain.append(GeekCoinBlock(previous_block_hash, transaction_list))\n",
    "\n",
    "    def display_chain(self):\n",
    "        for i in range(len(self.chain)):\n",
    "            print(f\"Data {i + 1}: {self.chain[i].block_data}\")\n",
    "            print(f\"Hash {i + 1}: {self.chain[i].block_hash}\\n\")\n",
    "\n",
    "    @property\n",
    "    def last_block(self):\n",
    "        return self.chain[-1]"
   ]
  },
  {
   "cell_type": "code",
   "execution_count": null,
   "id": "55407c09",
   "metadata": {},
   "outputs": [],
   "source": [
    "t1 = \"George sends 3.1 GC to Joe\"\n",
    "t2 = \"Joe sends 2.5 GC to Adam\"\n",
    "t3 = \"Adam sends 1.2 GC to Bob\"\n",
    "t4 = \"Bob sends 0.5 GC to Charlie\"\n",
    "t5 = \"Charlie sends 0.2 GC to David\"\n",
    "t6 = \"David sends 0.1 GC to Eric\"\n",
    "\n",
    "myblockchain = Blockchain()\n",
    "\n",
    "myblockchain.create_block_from_transaction([t1, t2])\n",
    "myblockchain.create_block_from_transaction([t3, t4])\n",
    "myblockchain.create_block_from_transaction([t5, t6])\n",
    "\n",
    "myblockchain.display_chain()"
   ]
  }
 ],
 "metadata": {
  "kernelspec": {
   "display_name": "Python 3 (ipykernel)",
   "language": "python",
   "name": "python3"
  },
  "language_info": {
   "codemirror_mode": {
    "name": "ipython",
    "version": 3
   },
   "file_extension": ".py",
   "mimetype": "text/x-python",
   "name": "python",
   "nbconvert_exporter": "python",
   "pygments_lexer": "ipython3",
   "version": "3.9.7"
  }
 },
 "nbformat": 4,
 "nbformat_minor": 5
}
