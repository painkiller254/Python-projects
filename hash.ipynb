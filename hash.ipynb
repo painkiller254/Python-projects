{
 "cells": [
  {
   "cell_type": "code",
   "execution_count": 3,
   "id": "7d9a02f5",
   "metadata": {},
   "outputs": [
    {
     "data": {
      "text/plain": [
       "'fefe510a6a15e1f5892234e0e6e311134e4a30a6752127d9d7d697e010c0ea34'"
      ]
     },
     "execution_count": 3,
     "metadata": {},
     "output_type": "execute_result"
    }
   ],
   "source": [
    "import hashlib\n",
    "message = \"Python is great\"\n",
    "# h1 = hashlib.sha256(message.encode())\n",
    "# h1\n",
    "# h1.hexdigest()\n",
    "h2 = hashlib.sha256(b\"Python is not great\")\n",
    "h2\n",
    "h2.hexdigest()"
   ]
  },
  {
   "cell_type": "code",
   "execution_count": null,
   "id": "b25d1bc4",
   "metadata": {},
   "outputs": [],
   "source": []
  }
 ],
 "metadata": {
  "kernelspec": {
   "display_name": "Python 3 (ipykernel)",
   "language": "python",
   "name": "python3"
  },
  "language_info": {
   "codemirror_mode": {
    "name": "ipython",
    "version": 3
   },
   "file_extension": ".py",
   "mimetype": "text/x-python",
   "name": "python",
   "nbconvert_exporter": "python",
   "pygments_lexer": "ipython3",
   "version": "3.9.7"
  }
 },
 "nbformat": 4,
 "nbformat_minor": 5
}
