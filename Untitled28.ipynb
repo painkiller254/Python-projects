{
 "cells": [
  {
   "cell_type": "code",
   "execution_count": 2,
   "id": "6d58e8f4",
   "metadata": {},
   "outputs": [
    {
     "data": {
      "text/plain": [
       "'a40cf9cca5eaa9d6e3e25d78a004099a89a075da5facee107a3cd5ae1142ab97'"
      ]
     },
     "execution_count": 2,
     "metadata": {},
     "output_type": "execute_result"
    }
   ],
   "source": [
    "import hashlib\n",
    "message = \"Python is great\"\n",
    "h1 = hashlib.sha256(message.encode())\n",
    "h1\n",
    "h1.hexdigest()\n",
    "h2 = hashlib.sha256(b\"Python is not great\")\n",
    "h2\n",
    "h2.hexdigest()"
   ]
  },
  {
   "cell_type": "code",
   "execution_count": null,
   "id": "38f58bc8",
   "metadata": {},
   "outputs": [],
   "source": []
  }
 ],
 "metadata": {
  "kernelspec": {
   "display_name": "Python 3 (ipykernel)",
   "language": "python",
   "name": "python3"
  },
  "language_info": {
   "codemirror_mode": {
    "name": "ipython",
    "version": 3
   },
   "file_extension": ".py",
   "mimetype": "text/x-python",
   "name": "python",
   "nbconvert_exporter": "python",
   "pygments_lexer": "ipython3",
   "version": "3.9.7"
  }
 },
 "nbformat": 4,
 "nbformat_minor": 5
}
