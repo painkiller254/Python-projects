{
 "cells": [
  {
   "cell_type": "code",
   "execution_count": 1,
   "id": "c3cdd941",
   "metadata": {},
   "outputs": [
    {
     "name": "stdout",
     "output_type": "stream",
     "text": [
      "Collecting hashlib\n",
      "  Downloading hashlib-20081119.zip (42 kB)\n",
      "Note: you may need to restart the kernel to use updated packages.\n"
     ]
    },
    {
     "name": "stderr",
     "output_type": "stream",
     "text": [
      "    ERROR: Command errored out with exit status 1:\n",
      "     command: 'C:\\Users\\badbw\\anaconda3\\python.exe' -c 'import io, os, sys, setuptools, tokenize; sys.argv[0] = '\"'\"'C:\\\\Users\\\\badbw\\\\AppData\\\\Local\\\\Temp\\\\pip-install-d_1widit\\\\hashlib_0d86b853aa0d47a08b11fbca634127e0\\\\setup.py'\"'\"'; __file__='\"'\"'C:\\\\Users\\\\badbw\\\\AppData\\\\Local\\\\Temp\\\\pip-install-d_1widit\\\\hashlib_0d86b853aa0d47a08b11fbca634127e0\\\\setup.py'\"'\"';f = getattr(tokenize, '\"'\"'open'\"'\"', open)(__file__) if os.path.exists(__file__) else io.StringIO('\"'\"'from setuptools import setup; setup()'\"'\"');code = f.read().replace('\"'\"'\\r\\n'\"'\"', '\"'\"'\\n'\"'\"');f.close();exec(compile(code, __file__, '\"'\"'exec'\"'\"'))' egg_info --egg-base 'C:\\Users\\badbw\\AppData\\Local\\Temp\\pip-pip-egg-info-paa1shwc'\n",
      "         cwd: C:\\Users\\badbw\\AppData\\Local\\Temp\\pip-install-d_1widit\\hashlib_0d86b853aa0d47a08b11fbca634127e0\\\n",
      "    Complete output (6 lines):\n",
      "    Traceback (most recent call last):\n",
      "      File \"<string>\", line 1, in <module>\n",
      "      File \"C:\\Users\\badbw\\AppData\\Local\\Temp\\pip-install-d_1widit\\hashlib_0d86b853aa0d47a08b11fbca634127e0\\setup.py\", line 68\n",
      "        print \"unknown OS, please update setup.py\"\n",
      "              ^\n",
      "    SyntaxError: Missing parentheses in call to 'print'. Did you mean print(\"unknown OS, please update setup.py\")?\n",
      "    ----------------------------------------\n",
      "WARNING: Discarding https://files.pythonhosted.org/packages/74/bb/9003d081345e9f0451884146e9ea2cff6e4cc4deac9ffd4a9ee98b318a49/hashlib-20081119.zip#sha256=419de2fd10ae71ed9c6adcb55903f116abd1d8acc8c814dfd5f839b4d5013e38 (from https://pypi.org/simple/hashlib/). Command errored out with exit status 1: python setup.py egg_info Check the logs for full command output.\n",
      "ERROR: Could not find a version that satisfies the requirement hashlib (from versions: 20081119)\n",
      "ERROR: No matching distribution found for hashlib\n"
     ]
    }
   ],
   "source": [
    "pip install hashlib"
   ]
  },
  {
   "cell_type": "code",
   "execution_count": 2,
   "id": "5a186cb5",
   "metadata": {},
   "outputs": [
    {
     "name": "stdout",
     "output_type": "stream",
     "text": [
      "Collecting hashlib\n",
      "  Using cached hashlib-20081119.zip (42 kB)\n",
      "Note: you may need to restart the kernel to use updated packages.\n"
     ]
    },
    {
     "name": "stderr",
     "output_type": "stream",
     "text": [
      "    ERROR: Command errored out with exit status 1:\n",
      "     command: 'C:\\Users\\badbw\\anaconda3\\python.exe' -c 'import io, os, sys, setuptools, tokenize; sys.argv[0] = '\"'\"'C:\\\\Users\\\\badbw\\\\AppData\\\\Local\\\\Temp\\\\pip-install-0affnpra\\\\hashlib_5faa184a7f7943c29dfe34e77e6c685a\\\\setup.py'\"'\"'; __file__='\"'\"'C:\\\\Users\\\\badbw\\\\AppData\\\\Local\\\\Temp\\\\pip-install-0affnpra\\\\hashlib_5faa184a7f7943c29dfe34e77e6c685a\\\\setup.py'\"'\"';f = getattr(tokenize, '\"'\"'open'\"'\"', open)(__file__) if os.path.exists(__file__) else io.StringIO('\"'\"'from setuptools import setup; setup()'\"'\"');code = f.read().replace('\"'\"'\\r\\n'\"'\"', '\"'\"'\\n'\"'\"');f.close();exec(compile(code, __file__, '\"'\"'exec'\"'\"'))' egg_info --egg-base 'C:\\Users\\badbw\\AppData\\Local\\Temp\\pip-pip-egg-info-5oikjw1x'\n",
      "         cwd: C:\\Users\\badbw\\AppData\\Local\\Temp\\pip-install-0affnpra\\hashlib_5faa184a7f7943c29dfe34e77e6c685a\\\n",
      "    Complete output (6 lines):\n",
      "    Traceback (most recent call last):\n",
      "      File \"<string>\", line 1, in <module>\n",
      "      File \"C:\\Users\\badbw\\AppData\\Local\\Temp\\pip-install-0affnpra\\hashlib_5faa184a7f7943c29dfe34e77e6c685a\\setup.py\", line 68\n",
      "        print \"unknown OS, please update setup.py\"\n",
      "              ^\n",
      "    SyntaxError: Missing parentheses in call to 'print'. Did you mean print(\"unknown OS, please update setup.py\")?\n",
      "    ----------------------------------------\n",
      "WARNING: Discarding https://files.pythonhosted.org/packages/74/bb/9003d081345e9f0451884146e9ea2cff6e4cc4deac9ffd4a9ee98b318a49/hashlib-20081119.zip#sha256=419de2fd10ae71ed9c6adcb55903f116abd1d8acc8c814dfd5f839b4d5013e38 (from https://pypi.org/simple/hashlib/). Command errored out with exit status 1: python setup.py egg_info Check the logs for full command output.\n",
      "ERROR: Could not find a version that satisfies the requirement hashlib (from versions: 20081119)\n",
      "ERROR: No matching distribution found for hashlib\n"
     ]
    }
   ],
   "source": [
    "pip install hashlib"
   ]
  },
  {
   "cell_type": "code",
   "execution_count": null,
   "id": "fd091a11",
   "metadata": {},
   "outputs": [],
   "source": []
  }
 ],
 "metadata": {
  "kernelspec": {
   "display_name": "Python 3 (ipykernel)",
   "language": "python",
   "name": "python3"
  },
  "language_info": {
   "codemirror_mode": {
    "name": "ipython",
    "version": 3
   },
   "file_extension": ".py",
   "mimetype": "text/x-python",
   "name": "python",
   "nbconvert_exporter": "python",
   "pygments_lexer": "ipython3",
   "version": "3.9.7"
  }
 },
 "nbformat": 4,
 "nbformat_minor": 5
}
