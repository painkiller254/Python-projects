{
 "cells": [
  {
   "cell_type": "code",
   "execution_count": 1,
   "id": "0c8647e6",
   "metadata": {},
   "outputs": [
    {
     "ename": "SyntaxError",
     "evalue": "invalid syntax (Temp/ipykernel_12532/2261283963.py, line 1)",
     "output_type": "error",
     "traceback": [
      "\u001b[1;36m  File \u001b[1;32m\"C:\\Users\\badbw\\AppData\\Local\\Temp/ipykernel_12532/2261283963.py\"\u001b[1;36m, line \u001b[1;32m1\u001b[0m\n\u001b[1;33m    A.enqueue(new Integer(6))\u001b[0m\n\u001b[1;37m                  ^\u001b[0m\n\u001b[1;31mSyntaxError\u001b[0m\u001b[1;31m:\u001b[0m invalid syntax\n"
     ]
    }
   ],
   "source": [
    "A.enqueue(new Integer(6))\n",
    "A.enqueue(new Integer(2))\n",
    "\n",
    "\n",
    "Integer num = A.dequeue()\n",
    "A.enqueue(new Integer(1))\n",
    "A.enqueue(new Integer(9))\n",
    "A.enqueue(num)\n",
    "A.enqueue(new Integer(7))\n",
    "num = A.dequeue()\n",
    "A.enqueue(new Integer(8))\n",
    "A.enqueue(new Integer(3))\n",
    "\n"
   ]
  },
  {
   "cell_type": "code",
   "execution_count": null,
   "id": "e224092d",
   "metadata": {},
   "outputs": [],
   "source": [
    "A.first()"
   ]
  }
 ],
 "metadata": {
  "kernelspec": {
   "display_name": "Python 3 (ipykernel)",
   "language": "python",
   "name": "python3"
  },
  "language_info": {
   "codemirror_mode": {
    "name": "ipython",
    "version": 3
   },
   "file_extension": ".py",
   "mimetype": "text/x-python",
   "name": "python",
   "nbconvert_exporter": "python",
   "pygments_lexer": "ipython3",
   "version": "3.9.7"
  }
 },
 "nbformat": 4,
 "nbformat_minor": 5
}
