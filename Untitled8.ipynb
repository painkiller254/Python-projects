{
 "cells": [
  {
   "cell_type": "code",
   "execution_count": null,
   "id": "91fd078f",
   "metadata": {},
   "outputs": [],
   "source": [
    "def upgrade_stations(threshold: int, num_bikes: int,\n",
    "                    stations: List[\"Station\"]) -> int:\n",
    "    for i in stations:\n",
    "        if Station < threshold:\n",
    "            station += num_bikes:\n",
    "        else:\n",
    "            continue\n",
    "\n",
    "    num_bikes >= 0\n",
    "    \n",
    "    \n",
    "    \"\"\">>> handout_copy = [HANDOUT_STATIONS[0][:], HANDOUT_STATIONS[1][;]]\n",
    "    >>> upgrade_stations(25, 5, handout_copy)\n",
    "    5\n",
    "    >>>handout_copy[0] == HANDOUT_STATIONS[0]\n",
    "    True\n",
    "    >>> handout_copy[1] == [7001, 'Lower Jarvis St SMART / The Esplanade', \\ \n",
    "                           43.647992, -79.370907, 20, 10, 10]\n",
    "    True\n",
    "    \"\"\"\""
   ]
  },
  {
   "cell_type": "code",
   "execution_count": null,
   "id": "dcdd306f",
   "metadata": {},
   "outputs": [],
   "source": [
    "if __name__ == '__main__':\n",
    "    pass\n",
    "\n",
    "import doctest\n",
    "doctest.testmod()\n",
    "\n",
    "stations_file = open('stations.csv')\n",
    "bike_stations = csv_to_list(station_file)\n",
    "stations_file.cloase()\n",
    "convert_data(bike_stations\n",
    "             \n",
    "print(bike_stations)\n",
    "print('Testing get_nearest_station from Bahen Centre: ',\n",
    "     get_nearest_station(43.6596, -79.3969, bike_stations) == 7250) "
   ]
  }
 ],
 "metadata": {
  "kernelspec": {
   "display_name": "Python 3 (ipykernel)",
   "language": "python",
   "name": "python3"
  },
  "language_info": {
   "codemirror_mode": {
    "name": "ipython",
    "version": 3
   },
   "file_extension": ".py",
   "mimetype": "text/x-python",
   "name": "python",
   "nbconvert_exporter": "python",
   "pygments_lexer": "ipython3",
   "version": "3.9.7"
  }
 },
 "nbformat": 4,
 "nbformat_minor": 5
}
