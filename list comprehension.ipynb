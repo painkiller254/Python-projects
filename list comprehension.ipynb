{
 "cells": [
  {
   "cell_type": "code",
   "execution_count": 1,
   "id": "1566f79e",
   "metadata": {},
   "outputs": [
    {
     "name": "stdout",
     "output_type": "stream",
     "text": [
      "[0, 2, 4, 6, 8, 10, 12, 14, 16, 18, 20]\n"
     ]
    }
   ],
   "source": [
    "even_nums = []\n",
    "for x in range(21):\n",
    "    if x%2 == 0:\n",
    "        even_nums.append(x)\n",
    "print(even_nums)"
   ]
  },
  {
   "cell_type": "code",
   "execution_count": 2,
   "id": "02d97dc3",
   "metadata": {},
   "outputs": [
    {
     "name": "stdout",
     "output_type": "stream",
     "text": [
      "[0, 2, 4, 6, 8, 10, 12, 14, 16, 18, 20]\n"
     ]
    }
   ],
   "source": [
    "even_nums = [x for x in range(21) if x%2 == 0]\n",
    "print(even_nums)"
   ]
  },
  {
   "cell_type": "code",
   "execution_count": 3,
   "id": "1231adfd",
   "metadata": {},
   "outputs": [
    {
     "name": "stdout",
     "output_type": "stream",
     "text": [
      "['Ram', 'Mohan']\n"
     ]
    }
   ],
   "source": [
    "names = [\"steve\", \"Bill\", \"Ram\", \"Mohan\", \"Abdul\"]\n",
    "names2 = [s for s in names if 'a' in s]\n",
    "print(names2)"
   ]
  },
  {
   "cell_type": "code",
   "execution_count": 4,
   "id": "511e78ba",
   "metadata": {},
   "outputs": [
    {
     "name": "stdout",
     "output_type": "stream",
     "text": [
      "[0, 1, 4, 9, 16, 25, 36, 49, 64, 81, 100]\n"
     ]
    }
   ],
   "source": [
    "squares = [x*x for x in range(11)]\n",
    "print(squares)"
   ]
  },
  {
   "cell_type": "code",
   "execution_count": 5,
   "id": "c0b96387",
   "metadata": {},
   "outputs": [
    {
     "name": "stdout",
     "output_type": "stream",
     "text": [
      "[(1, 4), (1, 5), (1, 6), (2, 4), (2, 5), (2, 6), (3, 4), (3, 5), (3, 6)]\n"
     ]
    }
   ],
   "source": [
    "nums1 = [1, 2, 3]\n",
    "nums2 = [4, 5, 6]\n",
    "nums = [(x,y) for x in nums1 for y in nums2]\n",
    "print(nums)"
   ]
  },
  {
   "cell_type": "code",
   "execution_count": 6,
   "id": "2bf5f6ff",
   "metadata": {},
   "outputs": [
    {
     "name": "stdout",
     "output_type": "stream",
     "text": [
      "[0, 10, 20]\n"
     ]
    }
   ],
   "source": [
    "nums = [x for x in range(21) if x%2==0 if x%5==0]\n",
    "print(nums)"
   ]
  },
  {
   "cell_type": "code",
   "execution_count": 12,
   "id": "e4aacf35",
   "metadata": {},
   "outputs": [
    {
     "name": "stdout",
     "output_type": "stream",
     "text": [
      "['Even', 'Odd', 'Even', 'Odd', 'Even']\n",
      "['0 is Even', '1 is Odd', '2 is Even', '3 is Odd', '4 is Even']\n"
     ]
    }
   ],
   "source": [
    "odd_even_list = [\"Even\" if i%2==0 else \"Odd\" for i in range(5)]\n",
    "print(odd_even_list)\n",
    "odd_even_list = [str(i) + ' is Even' if i%2==0 else str(i) + \" is Odd\" for i in range(5)]\n",
    "print(odd_even_list)"
   ]
  },
  {
   "cell_type": "code",
   "execution_count": 9,
   "id": "1a0a5d71",
   "metadata": {},
   "outputs": [
    {
     "name": "stdout",
     "output_type": "stream",
     "text": [
      "[1, 2, 3, 4, 5, 6, 7, 8, 9]\n"
     ]
    }
   ],
   "source": [
    "matrix = [[1, 2, 3], [4, 5, 6], [7, 8, 9]]\n",
    "flatList = [num for row in matrix for num in row]\n",
    "print(flatList)"
   ]
  },
  {
   "cell_type": "code",
   "execution_count": 11,
   "id": "1107684d",
   "metadata": {},
   "outputs": [
    {
     "name": "stdout",
     "output_type": "stream",
     "text": [
      "5 * 4 * 3 * 2 * 1\n"
     ]
    },
    {
     "data": {
      "text/plain": [
       "120"
      ]
     },
     "execution_count": 11,
     "metadata": {},
     "output_type": "execute_result"
    }
   ],
   "source": [
    "def factorial(n):\n",
    "    if n == 1:\n",
    "        print(n)\n",
    "        return 1\n",
    "    else:\n",
    "        print(n,'*', end=' ')\n",
    "        return n * factorial(n-1)\n",
    "    \n",
    "factorial(5)"
   ]
  },
  {
   "cell_type": "code",
   "execution_count": null,
   "id": "277a908d",
   "metadata": {},
   "outputs": [],
   "source": []
  }
 ],
 "metadata": {
  "kernelspec": {
   "display_name": "Python 3 (ipykernel)",
   "language": "python",
   "name": "python3"
  },
  "language_info": {
   "codemirror_mode": {
    "name": "ipython",
    "version": 3
   },
   "file_extension": ".py",
   "mimetype": "text/x-python",
   "name": "python",
   "nbconvert_exporter": "python",
   "pygments_lexer": "ipython3",
   "version": "3.9.7"
  }
 },
 "nbformat": 4,
 "nbformat_minor": 5
}
