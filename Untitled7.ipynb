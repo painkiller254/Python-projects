{
 "cells": [
  {
   "cell_type": "code",
   "execution_count": 3,
   "id": "642de0e4",
   "metadata": {},
   "outputs": [
    {
     "ename": "SyntaxError",
     "evalue": "invalid syntax (Temp/ipykernel_6808/2393765209.py, line 6)",
     "output_type": "error",
     "traceback": [
      "\u001b[1;36m  File \u001b[1;32m\"C:\\Users\\badbw\\AppData\\Local\\Temp/ipykernel_6808/2393765209.py\"\u001b[1;36m, line \u001b[1;32m6\u001b[0m\n\u001b[1;33m    m = c d mod n\u001b[0m\n\u001b[1;37m          ^\u001b[0m\n\u001b[1;31mSyntaxError\u001b[0m\u001b[1;31m:\u001b[0m invalid syntax\n"
     ]
    }
   ],
   "source": [
    "def task_1(self, n_str: str, d_str: str, c_str: str):\n",
    "    #Todo: Implement this method for Task 1\n",
    "    n = int(n_str, 16)\n",
    "    d = int(d_str, 16)\n",
    "    c = int(c_str, 16)\n",
    "    m = 0\n",
    "    \n",
    "    return hex(m).rstrip('L')"
   ]
  },
  {
   "cell_type": "code",
   "execution_count": null,
   "id": "b1f6c2c3",
   "metadata": {},
   "outputs": [],
   "source": []
  }
 ],
 "metadata": {
  "kernelspec": {
   "display_name": "Python 3 (ipykernel)",
   "language": "python",
   "name": "python3"
  },
  "language_info": {
   "codemirror_mode": {
    "name": "ipython",
    "version": 3
   },
   "file_extension": ".py",
   "mimetype": "text/x-python",
   "name": "python",
   "nbconvert_exporter": "python",
   "pygments_lexer": "ipython3",
   "version": "3.9.7"
  }
 },
 "nbformat": 4,
 "nbformat_minor": 5
}
