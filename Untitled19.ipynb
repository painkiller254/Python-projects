{
 "cells": [
  {
   "cell_type": "code",
   "execution_count": 1,
   "id": "d10e14fc",
   "metadata": {},
   "outputs": [
    {
     "name": "stdout",
     "output_type": "stream",
     "text": [
      "Collecting phonenumbers\n",
      "  Downloading phonenumbers-8.12.46-py2.py3-none-any.whl (2.6 MB)\n",
      "Installing collected packages: phonenumbers\n",
      "Successfully installed phonenumbers-8.12.46\n",
      "Note: you may need to restart the kernel to use updated packages.\n"
     ]
    }
   ],
   "source": [
    "pip install phonenumbers"
   ]
  },
  {
   "cell_type": "code",
   "execution_count": 2,
   "id": "4085ced7",
   "metadata": {},
   "outputs": [],
   "source": [
    "import phonenumbers\n",
    "from phonenumbers import carrier, geocoder, timezone"
   ]
  },
  {
   "cell_type": "code",
   "execution_count": 3,
   "id": "9e17ec56",
   "metadata": {},
   "outputs": [
    {
     "name": "stdout",
     "output_type": "stream",
     "text": [
      "Mobile no. with country code:0703666328\n"
     ]
    },
    {
     "ename": "NumberParseException",
     "evalue": "(0) Missing or invalid default region.",
     "output_type": "error",
     "traceback": [
      "\u001b[1;31m---------------------------------------------------------------------------\u001b[0m",
      "\u001b[1;31mNumberParseException\u001b[0m                      Traceback (most recent call last)",
      "\u001b[1;32m~\\AppData\\Local\\Temp/ipykernel_20524/1668062052.py\u001b[0m in \u001b[0;36m<module>\u001b[1;34m\u001b[0m\n\u001b[0;32m      1\u001b[0m \u001b[0mmobileNo\u001b[0m\u001b[1;33m=\u001b[0m\u001b[0minput\u001b[0m\u001b[1;33m(\u001b[0m\u001b[1;34m\"Mobile no. with country code:\"\u001b[0m\u001b[1;33m)\u001b[0m\u001b[1;33m\u001b[0m\u001b[1;33m\u001b[0m\u001b[0m\n\u001b[1;32m----> 2\u001b[1;33m \u001b[0mmobileNo\u001b[0m\u001b[1;33m=\u001b[0m\u001b[0mphonenumbers\u001b[0m\u001b[1;33m.\u001b[0m\u001b[0mparse\u001b[0m\u001b[1;33m(\u001b[0m\u001b[0mmobileNo\u001b[0m\u001b[1;33m)\u001b[0m\u001b[1;33m\u001b[0m\u001b[1;33m\u001b[0m\u001b[0m\n\u001b[0m\u001b[0;32m      3\u001b[0m \u001b[0mprint\u001b[0m\u001b[1;33m(\u001b[0m\u001b[0mtimezone\u001b[0m\u001b[1;33m.\u001b[0m\u001b[0mtime_zones_for_number\u001b[0m\u001b[1;33m(\u001b[0m\u001b[0mmobileNo\u001b[0m\u001b[1;33m)\u001b[0m\u001b[1;33m)\u001b[0m\u001b[1;33m\u001b[0m\u001b[1;33m\u001b[0m\u001b[0m\n\u001b[0;32m      4\u001b[0m \u001b[0mprint\u001b[0m\u001b[1;33m(\u001b[0m\u001b[0mcarrier\u001b[0m\u001b[1;33m.\u001b[0m\u001b[0mname_for_number\u001b[0m\u001b[1;33m(\u001b[0m\u001b[0mmobileNo\u001b[0m\u001b[1;33m,\u001b[0m\u001b[1;34m\"en\"\u001b[0m\u001b[1;33m)\u001b[0m\u001b[1;33m)\u001b[0m\u001b[1;33m\u001b[0m\u001b[1;33m\u001b[0m\u001b[0m\n\u001b[0;32m      5\u001b[0m \u001b[0mprint\u001b[0m\u001b[1;33m(\u001b[0m\u001b[0mgeocoder\u001b[0m\u001b[1;33m.\u001b[0m\u001b[0mdescription_for_number\u001b[0m\u001b[1;33m(\u001b[0m\u001b[0mmobileNo\u001b[0m\u001b[1;33m,\u001b[0m\u001b[1;34m\"en\"\u001b[0m\u001b[1;33m)\u001b[0m\u001b[1;33m)\u001b[0m\u001b[1;33m\u001b[0m\u001b[1;33m\u001b[0m\u001b[0m\n",
      "\u001b[1;32m~\\anaconda3\\lib\\site-packages\\phonenumbers\\phonenumberutil.py\u001b[0m in \u001b[0;36mparse\u001b[1;34m(number, region, keep_raw_input, numobj, _check_region)\u001b[0m\n\u001b[0;32m   2930\u001b[0m     \u001b[1;31m# with some sort of + sign so the number's region can be determined.\u001b[0m\u001b[1;33m\u001b[0m\u001b[1;33m\u001b[0m\u001b[0m\n\u001b[0;32m   2931\u001b[0m     \u001b[1;32mif\u001b[0m \u001b[0m_check_region\u001b[0m \u001b[1;32mand\u001b[0m \u001b[1;32mnot\u001b[0m \u001b[0m_check_region_for_parsing\u001b[0m\u001b[1;33m(\u001b[0m\u001b[0mnational_number\u001b[0m\u001b[1;33m,\u001b[0m \u001b[0mregion\u001b[0m\u001b[1;33m)\u001b[0m\u001b[1;33m:\u001b[0m\u001b[1;33m\u001b[0m\u001b[1;33m\u001b[0m\u001b[0m\n\u001b[1;32m-> 2932\u001b[1;33m         raise NumberParseException(NumberParseException.INVALID_COUNTRY_CODE,\n\u001b[0m\u001b[0;32m   2933\u001b[0m                                    \"Missing or invalid default region.\")\n\u001b[0;32m   2934\u001b[0m     \u001b[1;32mif\u001b[0m \u001b[0mkeep_raw_input\u001b[0m\u001b[1;33m:\u001b[0m\u001b[1;33m\u001b[0m\u001b[1;33m\u001b[0m\u001b[0m\n",
      "\u001b[1;31mNumberParseException\u001b[0m: (0) Missing or invalid default region."
     ]
    }
   ],
   "source": [
    "mobileNo=input(\"Mobile no. with country code:\")\n",
    "mobileNo=phonenumbers.parse(mobileNo)\n",
    "print(timezone.time_zones_for_number(mobileNo))\n",
    "print(carrier.name_for_number(mobileNo,\"en\"))\n",
    "print(geocoder.description_for_number(mobileNo,\"en\"))\n",
    "print(\"Valid Mobile Number:\",phonenumbers.is_valid_number(mobileNo))\n",
    "print(\"Checking possibility of Number:\",phonenumbers.is_possible_number(mobileNo))"
   ]
  },
  {
   "cell_type": "code",
   "execution_count": 4,
   "id": "cc9f670a",
   "metadata": {},
   "outputs": [
    {
     "name": "stdout",
     "output_type": "stream",
     "text": [
      "PhoneNumberMatch [11,24) 1800-202-2022\n",
      "PhoneNumberMatch [52,63) 703-4800500\n"
     ]
    },
    {
     "data": {
      "text/plain": [
       "'020 8366 1177'"
      ]
     },
     "execution_count": 4,
     "metadata": {},
     "output_type": "execute_result"
    }
   ],
   "source": [
    "text = \"Call me at 1800-202-2022 if it's before 9:30, or on 703-4800500 after 10am.\"\n",
    "for match in phonenumbers.PhoneNumberMatcher(text, \"US\"):\n",
    "    print(match)\n",
    "x = phonenumbers.parse(\"+442083661177\", None)\n",
    "phonenumbers.format_number(x, phonenumbers.PhoneNumberFormat.NATIONAL)"
   ]
  },
  {
   "cell_type": "code",
   "execution_count": null,
   "id": "8a18b635",
   "metadata": {},
   "outputs": [],
   "source": []
  }
 ],
 "metadata": {
  "kernelspec": {
   "display_name": "Python 3 (ipykernel)",
   "language": "python",
   "name": "python3"
  },
  "language_info": {
   "codemirror_mode": {
    "name": "ipython",
    "version": 3
   },
   "file_extension": ".py",
   "mimetype": "text/x-python",
   "name": "python",
   "nbconvert_exporter": "python",
   "pygments_lexer": "ipython3",
   "version": "3.9.7"
  }
 },
 "nbformat": 4,
 "nbformat_minor": 5
}
