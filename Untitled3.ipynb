{
 "cells": [
  {
   "cell_type": "code",
   "execution_count": null,
   "id": "41f930d7",
   "metadata": {},
   "outputs": [
    {
     "name": "stdout",
     "output_type": "stream",
     "text": [
      "What would you like?: kahawa\n",
      "Do you want to turn on the coffee maker?: yes\n",
      "How much water remains?: 10000\n",
      "How much Milk remains?: 5000\n",
      "How much Coffee remains?: 200\n",
      "How much Sugar remains?: 18\n",
      "Enter cash: 20\n",
      "Kahawa inakam\n"
     ]
    }
   ],
   "source": [
    "like = input(\"What would you like?: \")\n",
    "turn = input(\"Do you want to turn on the coffee maker?: \")\n",
    "machineOn = False\n",
    "\n",
    "if turn == \"yes\":\n",
    "    machineOn = True\n",
    "else:\n",
    "    machineOn = False\n",
    "    \n",
    "water = float(input(\"How much water remains?: \"))\n",
    "Milk = float(input(\"How much Milk remains?: \"))\n",
    "Coffee = float(input(\"How much Coffee remains?: \"))\n",
    "Sugar = float(input(\"How much Sugar remains?: \"))\n",
    "\n",
    "if water < 100:\n",
    "    print(\"Sorry there is not enough water.\")\n",
    "    \n",
    "if Milk < 100:\n",
    "    print(\"Sorry there is not enough MIlk.\")\n",
    "    \n",
    "if Coffee < 20:\n",
    "    print(\"Sorry there is not enough Coffee.\")\n",
    "    \n",
    "if Sugar < 0.25:\n",
    "    print(\"Sorry there is not enough Sugar.\")\n",
    "    \n",
    "cash = float(input(\"Enter cash: \"))\n",
    "\n",
    "kahawa = 20\n",
    "chai = 15\n",
    "turungi = 10\n",
    "\n",
    "if cash == 20:\n",
    "    print(\"Kahawa inakam\")\n",
    "elif cash == 15:\n",
    "    print(\"Chai on the way\")\n",
    "elif cash == 10:\n",
    "    print(\"Acha nikuletee katurungi.\")\n",
    "\n",
    "elif cash > 20:\n",
    "    print(\"Hapa haturudishangi change.\")\n",
    "elif cash < 10:\n",
    "    print(\"Wacha mchezo bwana!\")\n",
    "else:\n",
    "    print(\"Seti madoo!\")\n",
    "    \n",
    "Money = 0\n",
    "while cash > 0:\n",
    "    Money = Money + cash\n",
    "    \n",
    "\n",
    "print(water, \"ml\")\n",
    "print(Milk, \"ml\")\n",
    "print(Coffee, \"g\")\n",
    "print(Sugar, \"kg\")\n",
    "print(\"$\", Money)"
   ]
  },
  {
   "cell_type": "code",
   "execution_count": null,
   "id": "20801bb1",
   "metadata": {},
   "outputs": [],
   "source": []
  }
 ],
 "metadata": {
  "kernelspec": {
   "display_name": "Python 3 (ipykernel)",
   "language": "python",
   "name": "python3"
  },
  "language_info": {
   "codemirror_mode": {
    "name": "ipython",
    "version": 3
   },
   "file_extension": ".py",
   "mimetype": "text/x-python",
   "name": "python",
   "nbconvert_exporter": "python",
   "pygments_lexer": "ipython3",
   "version": "3.9.7"
  }
 },
 "nbformat": 4,
 "nbformat_minor": 5
}
