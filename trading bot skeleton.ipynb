{
 "cells": [
  {
   "cell_type": "code",
   "execution_count": 6,
   "id": "d4799788",
   "metadata": {},
   "outputs": [
    {
     "ename": "SyntaxError",
     "evalue": "invalid syntax (Temp/ipykernel_7260/772405299.py, line 1)",
     "output_type": "error",
     "traceback": [
      "\u001b[1;36m  File \u001b[1;32m\"C:\\Users\\badbw\\AppData\\Local\\Temp/ipykernel_7260/772405299.py\"\u001b[1;36m, line \u001b[1;32m1\u001b[0m\n\u001b[1;33m    +583 import requests\u001b[0m\n\u001b[1;37m         ^\u001b[0m\n\u001b[1;31mSyntaxError\u001b[0m\u001b[1;31m:\u001b[0m invalid syntax\n"
     ]
    }
   ],
   "source": [
    "+583 import requests\n",
    "import pandas as pd\n",
    "import io\n",
    "\n",
    "# class for Trading Bot\n",
    "class TradeBot():\n",
    "    def __init__(self, *arg):\n",
    "        self.symbol = arg\n",
    "        for s in self.symbol:\n",
    "            response = requests.get(f\"https://.alphavantage.co/query?function=TIME_SERIES_INTRADAY_EXTENDED&symbol={s}&apikey=demo&datatype=csv&interval=30min&slice=year1month1\").content\n",
    "                                    responseData = pd.read_csv(io.StringIO(response.decode('utf-8')))\n",
    "                \n",
    "                # print(responseData)\n",
    "            mean = sum(responseData['close']) /\n",
    "                \n",
    "                len(responseData['close'])\n",
    "                \n",
    "                buy = []\n",
    "                sell = []\n",
    "                flat = []\n",
    "                \n",
    "                time = list(responseData['time'])\n",
    "                close = list(responseData['close'])\n",
    "                \n",
    "                for i in time:\n",
    "                    for x in close:\n",
    "                        if x > mean:\n",
    "                            buy.append(f\"{s} {i} {x} buy\")\n",
    "                        elif x < mean:\n",
    "                            sell.append(f\"{s} {i} {x} sell\")\n",
    "                        else:\n",
    "                            flat.append(f\"{s} {i} {x} flat\")\n",
    "                            \n",
    "                trades = {'BUY' : buy, 'SELL' : sell, 'FLAT' : flat}\n",
    "                print(trades)\n",
    "            \n",
    "                "
   ]
  },
  {
   "cell_type": "code",
   "execution_count": null,
   "id": "5dd40869",
   "metadata": {},
   "outputs": [],
   "source": []
  }
 ],
 "metadata": {
  "kernelspec": {
   "display_name": "Python 3 (ipykernel)",
   "language": "python",
   "name": "python3"
  },
  "language_info": {
   "codemirror_mode": {
    "name": "ipython",
    "version": 3
   },
   "file_extension": ".py",
   "mimetype": "text/x-python",
   "name": "python",
   "nbconvert_exporter": "python",
   "pygments_lexer": "ipython3",
   "version": "3.9.7"
  }
 },
 "nbformat": 4,
 "nbformat_minor": 5
}
