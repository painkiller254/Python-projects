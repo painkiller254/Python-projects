{
 "cells": [
  {
   "cell_type": "code",
   "execution_count": 1,
   "id": "467ec508",
   "metadata": {},
   "outputs": [],
   "source": [
    "import django\n"
   ]
  },
  {
   "cell_type": "code",
   "execution_count": 2,
   "id": "3fd3d834",
   "metadata": {},
   "outputs": [
    {
     "name": "stdout",
     "output_type": "stream",
     "text": [
      "4.0.4\n"
     ]
    }
   ],
   "source": [
    "print(django.get_version())"
   ]
  },
  {
   "cell_type": "code",
   "execution_count": 3,
   "id": "38879973",
   "metadata": {},
   "outputs": [
    {
     "ename": "SyntaxError",
     "evalue": "invalid syntax (Temp/ipykernel_6448/2585796991.py, line 1)",
     "output_type": "error",
     "traceback": [
      "\u001b[1;36m  File \u001b[1;32m\"C:\\Users\\badbw\\AppData\\Local\\Temp/ipykernel_6448/2585796991.py\"\u001b[1;36m, line \u001b[1;32m1\u001b[0m\n\u001b[1;33m    django-admin startproject hello\u001b[0m\n\u001b[1;37m                 ^\u001b[0m\n\u001b[1;31mSyntaxError\u001b[0m\u001b[1;31m:\u001b[0m invalid syntax\n"
     ]
    }
   ],
   "source": [
    "django-admin startproject hello\n"
   ]
  },
  {
   "cell_type": "code",
   "execution_count": 4,
   "id": "34ee6f97",
   "metadata": {},
   "outputs": [
    {
     "name": "stdout",
     "output_type": "stream",
     "text": [
      "Note: you may need to restart the kernel to use updated packages.\n"
     ]
    },
    {
     "name": "stderr",
     "output_type": "stream",
     "text": [
      "\n",
      "Usage:   \n",
      "  C:\\Users\\badbw\\anaconda3\\python.exe -m pip install [options] <requirement specifier> [package-index-options] ...\n",
      "  C:\\Users\\badbw\\anaconda3\\python.exe -m pip install [options] -r <requirements file> [package-index-options] ...\n",
      "  C:\\Users\\badbw\\anaconda3\\python.exe -m pip install [options] [-e] <vcs project url> ...\n",
      "  C:\\Users\\badbw\\anaconda3\\python.exe -m pip install [options] [-e] <local project path> ...\n",
      "  C:\\Users\\badbw\\anaconda3\\python.exe -m pip install [options] <archive url/path> ...\n",
      "\n",
      "no such option: --Teana\n"
     ]
    }
   ],
   "source": [
    "pip install --Teana virtualenv\n"
   ]
  },
  {
   "cell_type": "code",
   "execution_count": null,
   "id": "7cfb92d1",
   "metadata": {},
   "outputs": [],
   "source": [
    "py -m "
   ]
  }
 ],
 "metadata": {
  "kernelspec": {
   "display_name": "Python 3 (ipykernel)",
   "language": "python",
   "name": "python3"
  },
  "language_info": {
   "codemirror_mode": {
    "name": "ipython",
    "version": 3
   },
   "file_extension": ".py",
   "mimetype": "text/x-python",
   "name": "python",
   "nbconvert_exporter": "python",
   "pygments_lexer": "ipython3",
   "version": "3.9.7"
  }
 },
 "nbformat": 4,
 "nbformat_minor": 5
}
