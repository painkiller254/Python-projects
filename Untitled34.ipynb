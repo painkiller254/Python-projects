{
 "cells": [
  {
   "cell_type": "code",
   "execution_count": 1,
   "id": "7cb7882e",
   "metadata": {},
   "outputs": [
    {
     "ename": "IndexError",
     "evalue": "list index out of range",
     "output_type": "error",
     "traceback": [
      "\u001b[1;31m---------------------------------------------------------------------------\u001b[0m",
      "\u001b[1;31mIndexError\u001b[0m                                Traceback (most recent call last)",
      "\u001b[1;32m~\\AppData\\Local\\Temp/ipykernel_7236/37793441.py\u001b[0m in \u001b[0;36m<module>\u001b[1;34m\u001b[0m\n\u001b[0;32m     69\u001b[0m     \u001b[0mMainWindow\u001b[0m \u001b[1;33m=\u001b[0m \u001b[0mQtWidgets\u001b[0m\u001b[1;33m.\u001b[0m\u001b[0mQMainWindow\u001b[0m\u001b[1;33m(\u001b[0m\u001b[1;33m)\u001b[0m\u001b[1;33m\u001b[0m\u001b[1;33m\u001b[0m\u001b[0m\n\u001b[0;32m     70\u001b[0m     \u001b[0mui\u001b[0m \u001b[1;33m=\u001b[0m \u001b[0mUi_MainWindow\u001b[0m\u001b[1;33m(\u001b[0m\u001b[1;33m)\u001b[0m\u001b[1;33m\u001b[0m\u001b[1;33m\u001b[0m\u001b[0m\n\u001b[1;32m---> 71\u001b[1;33m     \u001b[0mui\u001b[0m\u001b[1;33m.\u001b[0m\u001b[0msetupUi\u001b[0m\u001b[1;33m(\u001b[0m\u001b[0mMainWindow\u001b[0m\u001b[1;33m)\u001b[0m\u001b[1;33m\u001b[0m\u001b[1;33m\u001b[0m\u001b[0m\n\u001b[0m\u001b[0;32m     72\u001b[0m     \u001b[0mMainWindow\u001b[0m\u001b[1;33m.\u001b[0m\u001b[0mshow\u001b[0m\u001b[1;33m(\u001b[0m\u001b[1;33m)\u001b[0m\u001b[1;33m\u001b[0m\u001b[1;33m\u001b[0m\u001b[0m\n\u001b[0;32m     73\u001b[0m     \u001b[0msys\u001b[0m\u001b[1;33m.\u001b[0m\u001b[0mexit\u001b[0m\u001b[1;33m(\u001b[0m\u001b[0mapp\u001b[0m\u001b[1;33m.\u001b[0m\u001b[0mexec_\u001b[0m\u001b[1;33m(\u001b[0m\u001b[1;33m)\u001b[0m\u001b[1;33m)\u001b[0m\u001b[1;33m\u001b[0m\u001b[1;33m\u001b[0m\u001b[0m\n",
      "\u001b[1;32m~\\AppData\\Local\\Temp/ipykernel_7236/37793441.py\u001b[0m in \u001b[0;36msetupUi\u001b[1;34m(self, MainWindow)\u001b[0m\n\u001b[0;32m     31\u001b[0m         \u001b[0mself\u001b[0m\u001b[1;33m.\u001b[0m\u001b[0mretranslateUi\u001b[0m\u001b[1;33m(\u001b[0m\u001b[0mMainWindow\u001b[0m\u001b[1;33m)\u001b[0m\u001b[1;33m\u001b[0m\u001b[1;33m\u001b[0m\u001b[0m\n\u001b[0;32m     32\u001b[0m         \u001b[0mQtCore\u001b[0m\u001b[1;33m.\u001b[0m\u001b[0mQMetaObject\u001b[0m\u001b[1;33m.\u001b[0m\u001b[0mconnectSlotsByName\u001b[0m\u001b[1;33m(\u001b[0m\u001b[0mMainWindow\u001b[0m\u001b[1;33m)\u001b[0m\u001b[1;33m\u001b[0m\u001b[1;33m\u001b[0m\u001b[0m\n\u001b[1;32m---> 33\u001b[1;33m         \u001b[0mself\u001b[0m\u001b[1;33m.\u001b[0m\u001b[0mget_score\u001b[0m\u001b[1;33m(\u001b[0m\u001b[0mMainWindow\u001b[0m\u001b[1;33m)\u001b[0m\u001b[1;33m\u001b[0m\u001b[1;33m\u001b[0m\u001b[0m\n\u001b[0m\u001b[0;32m     34\u001b[0m \u001b[1;33m\u001b[0m\u001b[0m\n\u001b[0;32m     35\u001b[0m         \u001b[1;31m#call the get_score() functionafter every 1000 milliseconds\u001b[0m\u001b[1;33m\u001b[0m\u001b[1;33m\u001b[0m\u001b[0m\n",
      "\u001b[1;32m~\\AppData\\Local\\Temp/ipykernel_7236/37793441.py\u001b[0m in \u001b[0;36mget_score\u001b[1;34m(self, MainWindow)\u001b[0m\n\u001b[0;32m     46\u001b[0m         \u001b[0msoup\u001b[0m \u001b[1;33m=\u001b[0m \u001b[0mBeautifulSoup\u001b[0m\u001b[1;33m(\u001b[0m\u001b[0mpage\u001b[0m\u001b[1;33m.\u001b[0m\u001b[0mtext\u001b[0m\u001b[1;33m,\u001b[0m\u001b[1;34m'html.parser'\u001b[0m\u001b[1;33m)\u001b[0m\u001b[1;33m\u001b[0m\u001b[1;33m\u001b[0m\u001b[0m\n\u001b[0;32m     47\u001b[0m         \u001b[1;31m# name of first team\u001b[0m\u001b[1;33m\u001b[0m\u001b[1;33m\u001b[0m\u001b[0m\n\u001b[1;32m---> 48\u001b[1;33m         \u001b[0mteam_1\u001b[0m \u001b[1;33m=\u001b[0m \u001b[0msoup\u001b[0m\u001b[1;33m.\u001b[0m\u001b[0mfind_all\u001b[0m\u001b[1;33m(\u001b[0m\u001b[0mclass_\u001b[0m \u001b[1;33m=\u001b[0m \u001b[1;34m\"cb-over-flo cb-hmscg-tm-nm\"\u001b[0m\u001b[1;33m)\u001b[0m\u001b[1;33m[\u001b[0m\u001b[1;36m0\u001b[0m\u001b[1;33m]\u001b[0m\u001b[1;33m.\u001b[0m\u001b[0mget_text\u001b[0m\u001b[1;33m(\u001b[0m\u001b[1;33m)\u001b[0m\u001b[1;33m\u001b[0m\u001b[1;33m\u001b[0m\u001b[0m\n\u001b[0m\u001b[0;32m     49\u001b[0m         \u001b[1;31m# name of second team\u001b[0m\u001b[1;33m\u001b[0m\u001b[1;33m\u001b[0m\u001b[0m\n\u001b[0;32m     50\u001b[0m         \u001b[0mteam_2\u001b[0m \u001b[1;33m=\u001b[0m \u001b[0msoup\u001b[0m\u001b[1;33m.\u001b[0m\u001b[0mfind_all\u001b[0m\u001b[1;33m(\u001b[0m\u001b[0mclass_\u001b[0m \u001b[1;33m=\u001b[0m \u001b[1;34m\"cb-over-flo cb-hmscg-tm-nm\"\u001b[0m\u001b[1;33m)\u001b[0m\u001b[1;33m[\u001b[0m\u001b[1;36m1\u001b[0m\u001b[1;33m]\u001b[0m\u001b[1;33m.\u001b[0m\u001b[0mget_text\u001b[0m\u001b[1;33m(\u001b[0m\u001b[1;33m)\u001b[0m\u001b[1;33m\u001b[0m\u001b[1;33m\u001b[0m\u001b[0m\n",
      "\u001b[1;31mIndexError\u001b[0m: list index out of range"
     ]
    }
   ],
   "source": [
    "from PyQt5 import QtCore, QtGui, QtWidgets\n",
    "from tkinter import *\n",
    "import requests\n",
    "from bs4 import BeautifulSoup\n",
    "\n",
    "class Ui_MainWindow(object):\n",
    "    def setupUi(self, MainWindow):\n",
    "        MainWindow.setObjectName(\"MainWindow\")\n",
    "        MainWindow.resize(547, 347)\n",
    "        self.centralwidget = QtWidgets.QWidget(MainWindow)\n",
    "        self.label = QtWidgets.QLabel(self.centralwidget)\n",
    "        self.label.setGeometry(QtCore.QRect(130, 10, 331, 111))\n",
    "        font = QtGui.QFont()\n",
    "        font.setFamily(\"Bahnschrift\")\n",
    "        font.setPointSize(45)\n",
    "        font.setBold(True)\n",
    "        font.setWeight(75)\n",
    "        self.label.setFont(font)\n",
    "        self.label_2 = QtWidgets.QLabel(self.centralwidget)\n",
    "        self.label_2.setGeometry(QtCore.QRect(30, 130, 491, 61))\n",
    "        font.setPointSize(30)\n",
    "        self.label_2.setFont(font)\n",
    "        self.label_2.setText(\"\")\n",
    "        \n",
    "        self.label_3 = QtWidgets.QLabel(self.centralwidget)\n",
    "        self.label_3.setGeometry(QtCore.QRect(30, 210, 491, 71))\n",
    "        font.setPointSize(30)\n",
    "        self.label_3.setFont(font)\n",
    "        self.label_3.setText(\"\")\n",
    "        MainWindow.setCentralWidget(self.centralwidget)\n",
    "        self.retranslateUi(MainWindow)\n",
    "        QtCore.QMetaObject.connectSlotsByName(MainWindow)\n",
    "        self.get_score(MainWindow)\n",
    "        \n",
    "        #call the get_score() functionafter every 1000 milliseconds\n",
    "        \n",
    "        timer = QtCore.QTimer(MainWindow)\n",
    "        timer.timeout.connect(lambda:self.get_score(MainWindow))\n",
    "        timer.start(1000)\n",
    "        \n",
    "    def get_score(self, MainWindow):\n",
    "        #cricbuzz url to get score updates\n",
    "        url = \"https://www.crizbuzz.com/\"\n",
    "        # request data from crizbuzz\n",
    "        page = requests.get(url)\n",
    "        soup = BeautifulSoup(page.text,'html.parser')\n",
    "        # name of first team\n",
    "        team_1 = soup.find_all(class_ = \"cb-over-flo cb-hmscg-tm-nm\")[0].get_text()\n",
    "        # name of second team\n",
    "        team_2 = soup.find_all(class_ = \"cb-over-flo cb-hmscg-tm-nm\")[1].get_text()\n",
    "        #scores of first team\n",
    "        team_1_score = soup.find_all(class_ = \"cb-ovr-flo\")[8].get_text()\n",
    "        # scores of second team\n",
    "        team_2_score = soup.find_all(class_ = \"cb-ovr-flo\")[10].get_text()\n",
    "        # setthe team names to label 2\n",
    "        self.label_2.setText(f\"{team_1}\\t\\t{team_2}\")\n",
    "        \n",
    "        # setthe team names to label 3\n",
    "        self.label_3.setText(f\"{team_1}\\t\\t{team_2_score}\")\n",
    "        \n",
    "    def retranslateUi(self, MainWindow):\n",
    "        _translate = QtCore.QCoreApplication.translate\n",
    "        MainWindow.setWindowTitle(_translate(\"MainWindow\", \"Kenyan Premier League\"))\n",
    "        self.label.setText(\"KPL 2022\")\n",
    "        \n",
    "if __name__ == \"__main__\":\n",
    "    import sys\n",
    "    app = QtWidgets.QApplication(sys.argv)\n",
    "    MainWindow = QtWidgets.QMainWindow()\n",
    "    ui = Ui_MainWindow()\n",
    "    ui.setupUi(MainWindow)\n",
    "    MainWindow.show()\n",
    "    sys.exit(app.exec_())"
   ]
  },
  {
   "cell_type": "code",
   "execution_count": null,
   "id": "27bef478",
   "metadata": {},
   "outputs": [],
   "source": []
  }
 ],
 "metadata": {
  "kernelspec": {
   "display_name": "Python 3 (ipykernel)",
   "language": "python",
   "name": "python3"
  },
  "language_info": {
   "codemirror_mode": {
    "name": "ipython",
    "version": 3
   },
   "file_extension": ".py",
   "mimetype": "text/x-python",
   "name": "python",
   "nbconvert_exporter": "python",
   "pygments_lexer": "ipython3",
   "version": "3.9.7"
  }
 },
 "nbformat": 4,
 "nbformat_minor": 5
}
