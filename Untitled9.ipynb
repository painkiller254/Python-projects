{
 "cells": [
  {
   "cell_type": "code",
   "execution_count": 2,
   "id": "805e1fe6",
   "metadata": {},
   "outputs": [
    {
     "ename": "NameError",
     "evalue": "name 'Train' is not defined",
     "output_type": "error",
     "traceback": [
      "\u001b[1;31m---------------------------------------------------------------------------\u001b[0m",
      "\u001b[1;31mNameError\u001b[0m                                 Traceback (most recent call last)",
      "\u001b[1;32m~\\AppData\\Local\\Temp/ipykernel_8952/2248141539.py\u001b[0m in \u001b[0;36m<module>\u001b[1;34m\u001b[0m\n\u001b[0;32m      3\u001b[0m \u001b[1;32mimport\u001b[0m \u001b[0mmatplotlib\u001b[0m\u001b[1;33m.\u001b[0m\u001b[0mpyplot\u001b[0m \u001b[1;32mas\u001b[0m \u001b[0mplt\u001b[0m\u001b[1;33m\u001b[0m\u001b[1;33m\u001b[0m\u001b[0m\n\u001b[0;32m      4\u001b[0m \u001b[1;33m\u001b[0m\u001b[0m\n\u001b[1;32m----> 5\u001b[1;33m \u001b[0mx\u001b[0m \u001b[1;33m=\u001b[0m \u001b[0mTrain\u001b[0m\u001b[1;33m.\u001b[0m\u001b[0mSalePrice\u001b[0m\u001b[1;33m\u001b[0m\u001b[1;33m\u001b[0m\u001b[0m\n\u001b[0m\u001b[0;32m      6\u001b[0m \u001b[0msns\u001b[0m\u001b[1;33m.\u001b[0m\u001b[0mset_style\u001b[0m\u001b[1;33m(\u001b[0m\u001b[1;34m'whitegrid'\u001b[0m\u001b[1;33m)\u001b[0m\u001b[1;33m\u001b[0m\u001b[1;33m\u001b[0m\u001b[0m\n\u001b[0;32m      7\u001b[0m \u001b[0msns\u001b[0m\u001b[1;33m.\u001b[0m\u001b[0mdisplot\u001b[0m\u001b[1;33m(\u001b[0m\u001b[0mx\u001b[0m\u001b[1;33m)\u001b[0m\u001b[1;33m\u001b[0m\u001b[1;33m\u001b[0m\u001b[0m\n",
      "\u001b[1;31mNameError\u001b[0m: name 'Train' is not defined"
     ]
    }
   ],
   "source": [
    "import seaborn as sns\n",
    "import matplotlib\n",
    "import matplotlib.pyplot as plt\n",
    "\n",
    "x = Train.SalePrice\n",
    "sns.set_style('whitegrid')\n",
    "sns.displot(x)\n",
    "plt.show()\n",
    "\n",
    "Train['SalePrice_log'] = np.log(Train.SalePrice)\n",
    "x = Train.SalePrice_log\n",
    "sns.displot(x)\n",
    "plt.show()"
   ]
  },
  {
   "cell_type": "code",
   "execution_count": null,
   "id": "4fb6f019",
   "metadata": {},
   "outputs": [],
   "source": [
    "# lets explore the correlations in our dataset\n",
    "plt.figure(figsize=(20,20))\n",
    "sns.heatmap(Train.corr())"
   ]
  },
  {
   "cell_type": "code",
   "execution_count": null,
   "id": "47454cdd",
   "metadata": {},
   "outputs": [],
   "source": [
    "# Model 1: Random Forest Regressor\n",
    "import sklearn\n",
    "from sklearn.model_selection import GridSearchCV\n",
    "from sklearn.ensemble import RandomForestRegressor\n",
    "\n",
    "# Split training data into features (x_train)and labels (Y_train)\n",
    "x_train = Train_encoded.drop(columns=['Id','SalePrice','SalePrice_log'])\n",
    "Y_train = Train_encoded.SalePrice_log\n",
    "\n",
    "\n",
    "# Set Parameters for grid search\n",
    "param_grid = {'n_estimators':[200, 300, 400, 500, 600],\n",
    "             'max_features':[0.1, 0.3, 0.6]\n",
    "             }\n",
    "#Initialise the random forest model\n",
    "RandForest = RandomForestRegressor(n_jobs= -1, random_state = 0, bootstrap=True)\n",
    "\n",
    "# Initialise Gridsearch CV with 5 fold crossvalidation and neggative root_mean_squared_error\n",
    "Tuned_randomForest = GridSearchCV(estimator=RandForest, param_grid=param_grid, scoring='neg_root_mean_squared_error', cv=5)\n",
    "\n",
    "# Fit model & Time the process for training the model\n",
    "start_time = time.process_time()\n",
    "Tuned_RandomForest.fit(x_train, Y_train)\n",
    "# End of fit time\n",
    "print(time.process_time() - start_time, \"Seconds\")\n",
    "\n",
    "# Record the results for all models in a pandas dataframe and keep only the best model\n",
    "Results = pd.DataFrame(Tuned_RandForest.cv_results_)\n",
    "Results_Best = Results.loc[Results.rank_test_score==10]\n",
    "\n",
    "print('Random Forest Regressor')\n",
    "#Results = Results.loc[Results.rank_test_score==1]\n",
    "\n",
    "# Create a plot to show all models\n",
    "\n",
    "col = ['param_max_features']\n",
    "\n",
    "for col in col:\n",
    "    grid = sns.FacetGrid(Results, col=col, hue='rank_test_score', palette=\"tab20c\", legend_out=False,\n",
    "                        col_wrap=5, height=5)\n",
    "    #Draw marker on plot and decide what parameters to plot\n",
    "    grid.map(plt.axhline, y=0, ls=\":\", c=\".5\")\n",
    "    \n",
    "    # Draw marker on plot and decide what parameters to plot\n",
    "    grid.map(plt.plot, \"param_n_estimators\", \"mean_test_score\", marker=\"o\")\n",
    "    \n",
    "    # Adjust the arrangement of the plots\n",
    "    grid.fig.tight_layout(w_pad=1)\n",
    "    \n",
    "     # Add legend to gird \n",
    "    grid.add_legend()"
   ]
  }
 ],
 "metadata": {
  "kernelspec": {
   "display_name": "Python 3 (ipykernel)",
   "language": "python",
   "name": "python3"
  },
  "language_info": {
   "codemirror_mode": {
    "name": "ipython",
    "version": 3
   },
   "file_extension": ".py",
   "mimetype": "text/x-python",
   "name": "python",
   "nbconvert_exporter": "python",
   "pygments_lexer": "ipython3",
   "version": "3.9.7"
  }
 },
 "nbformat": 4,
 "nbformat_minor": 5
}
