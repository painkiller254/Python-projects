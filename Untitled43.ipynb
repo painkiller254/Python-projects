{
 "cells": [
  {
   "cell_type": "code",
   "execution_count": 9,
   "id": "eacb0925",
   "metadata": {},
   "outputs": [
    {
     "ename": "ModuleNotFoundError",
     "evalue": "No module named 'mechanize'",
     "output_type": "error",
     "traceback": [
      "\u001b[1;31m---------------------------------------------------------------------------\u001b[0m",
      "\u001b[1;31mModuleNotFoundError\u001b[0m                       Traceback (most recent call last)",
      "\u001b[1;32m~\\AppData\\Local\\Temp/ipykernel_3236/2983788886.py\u001b[0m in \u001b[0;36m<module>\u001b[1;34m\u001b[0m\n\u001b[0;32m      1\u001b[0m \u001b[1;32mimport\u001b[0m \u001b[0msys\u001b[0m\u001b[1;33m\u001b[0m\u001b[1;33m\u001b[0m\u001b[0m\n\u001b[1;32m----> 2\u001b[1;33m \u001b[1;32mimport\u001b[0m \u001b[0mmechanize\u001b[0m\u001b[1;33m\u001b[0m\u001b[1;33m\u001b[0m\u001b[0m\n\u001b[0m\u001b[0;32m      3\u001b[0m \u001b[1;33m\u001b[0m\u001b[0m\n\u001b[0;32m      4\u001b[0m \u001b[1;32mdef\u001b[0m \u001b[0mcrawler\u001b[0m\u001b[1;33m(\u001b[0m\u001b[0mlink\u001b[0m\u001b[1;33m)\u001b[0m\u001b[1;33m:\u001b[0m\u001b[1;33m\u001b[0m\u001b[1;33m\u001b[0m\u001b[0m\n\u001b[0;32m      5\u001b[0m     \u001b[0mbr\u001b[0m \u001b[1;33m=\u001b[0m \u001b[0mmechanize\u001b[0m\u001b[1;33m.\u001b[0m\u001b[0mBrowser\u001b[0m\u001b[1;33m(\u001b[0m\u001b[1;33m)\u001b[0m\u001b[1;33m\u001b[0m\u001b[1;33m\u001b[0m\u001b[0m\n",
      "\u001b[1;31mModuleNotFoundError\u001b[0m: No module named 'mechanize'"
     ]
    }
   ],
   "source": [
    "import sys\n",
    "import mechanize\n",
    "\n",
    "def crawler(link):\n",
    "    br = mechanize.Browser()\n",
    "    br.addheaders = [('User-agent', 'Mozilla/5.0 (X11; Linux x86_64) AppleWebKit/537.36 (KHTML, like Gecko) Chrome/51.0.2704.106 Safari/537.36 OPR/38.0.2220.41')]\n",
    "\n",
    "    response = br.open(link)\n",
    "    for link in br.links():\n",
    "        linkBrowser = mechanize.Browser()\n",
    "        linkBrowser.addheaders = [('User-agent', 'Mozilla/5.0(X11; Linux x86_64) AppleWbkit/537.36 (KHTML, like Gecko) Chrome/52.0.2704.106 Safari/537.36 OPR/38.0.2220.41')]\n",
    "\n",
    "    try:\n",
    "        linkBrowsr.open(link.url)\n",
    "        for lf in linkBrowser.links():\n",
    "            print(lf.url)\n",
    "    except:\n",
    "        pass\n",
    "\n",
    "crawler(sys.argv[1])\n",
    "\n",
    "# ----------------------------------------------------\n",
    "\n",
    "# https://int0x33.medium.com/day-18-essential-ctf-tools-1f9af1552214"
   ]
  },
  {
   "cell_type": "code",
   "execution_count": 10,
   "id": "a3e25921",
   "metadata": {},
   "outputs": [
    {
     "name": "stdout",
     "output_type": "stream",
     "text": [
      "Note: you may need to restart the kernel to use updated packages.\n"
     ]
    },
    {
     "name": "stderr",
     "output_type": "stream",
     "text": [
      "WARNING: Retrying (Retry(total=4, connect=None, read=None, redirect=None, status=None)) after connection broken by 'NewConnectionError('<pip._vendor.urllib3.connection.HTTPSConnection object at 0x00000250B4C98BE0>: Failed to establish a new connection: [Errno 11001] getaddrinfo failed')': /simple/mechanize/\n",
      "WARNING: Retrying (Retry(total=3, connect=None, read=None, redirect=None, status=None)) after connection broken by 'NewConnectionError('<pip._vendor.urllib3.connection.HTTPSConnection object at 0x00000250B4C98C10>: Failed to establish a new connection: [Errno 11001] getaddrinfo failed')': /simple/mechanize/\n",
      "WARNING: Retrying (Retry(total=2, connect=None, read=None, redirect=None, status=None)) after connection broken by 'NewConnectionError('<pip._vendor.urllib3.connection.HTTPSConnection object at 0x00000250B4CA04C0>: Failed to establish a new connection: [Errno 11001] getaddrinfo failed')': /simple/mechanize/\n",
      "WARNING: Retrying (Retry(total=1, connect=None, read=None, redirect=None, status=None)) after connection broken by 'NewConnectionError('<pip._vendor.urllib3.connection.HTTPSConnection object at 0x00000250B4CA0700>: Failed to establish a new connection: [Errno 11001] getaddrinfo failed')': /simple/mechanize/\n",
      "WARNING: Retrying (Retry(total=0, connect=None, read=None, redirect=None, status=None)) after connection broken by 'NewConnectionError('<pip._vendor.urllib3.connection.HTTPSConnection object at 0x00000250B4CA08B0>: Failed to establish a new connection: [Errno 11001] getaddrinfo failed')': /simple/mechanize/\n",
      "ERROR: Could not find a version that satisfies the requirement mechanize (from versions: none)\n",
      "ERROR: No matching distribution found for mechanize\n"
     ]
    }
   ],
   "source": [
    "pip install mechanize"
   ]
  },
  {
   "cell_type": "code",
   "execution_count": null,
   "id": "6853efbc",
   "metadata": {},
   "outputs": [],
   "source": []
  }
 ],
 "metadata": {
  "kernelspec": {
   "display_name": "Python 3 (ipykernel)",
   "language": "python",
   "name": "python3"
  },
  "language_info": {
   "codemirror_mode": {
    "name": "ipython",
    "version": 3
   },
   "file_extension": ".py",
   "mimetype": "text/x-python",
   "name": "python",
   "nbconvert_exporter": "python",
   "pygments_lexer": "ipython3",
   "version": "3.9.7"
  }
 },
 "nbformat": 4,
 "nbformat_minor": 5
}
