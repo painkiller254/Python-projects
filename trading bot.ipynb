{
 "cells": [
  {
   "cell_type": "code",
   "execution_count": null,
   "id": "e569c5ea",
   "metadata": {},
   "outputs": [],
   "source": [
    "import numpy as np\n",
    "class GeekyBlueSeahorse(QCAlgorithm):\n",
    "    def Initialize(self):\n",
    "        self.SetStartDate(2015, 3, 26)  # Set Start Date\n",
    "        self.SetEndDate(2021, 9, 25)\n",
    "        self.SetCash(100000)  # Set Strategy Cash\n",
    "        self.symbol = self.AddEquity(\"SPY\", Resolution.Daily).Symbol\n",
    "        self.lookback = 20\n",
    "        self.ceiling, self.floor = 30, 10\n",
    "        self.initialStopRisk = 0.98\n",
    "        self.trailingStopRisk = 0.9\n",
    "\n",
    "        self.Schedule.On(self.DateRules.EveryDay(self.symbol), \\\n",
    "                         self.TimeRules.AfterMarketOpen(self.symbol, 20), \\\n",
    "                          Action(self.EveryMarketOpen))\n",
    "    def OnData(self, data):\n",
    "        self.Plot(\"Data Chart\", self.symbol, self.Securities[self.symbol].Close)\n",
    "\n",
    " def EveryMarketOpen(self):\n",
    "        close = self.History(self.Symbol, 61, Resolution.Monthly)[\"close\"]\n",
    "        todayvol = np.std(close[1:61])\n",
    "        yesterdayvol = np.std(close[0:60]) // standard deviation\n",
    "        initialvol = (currentvol - yestervol) / (currentvol)\n",
    "\n",
    "        self.lookback = round(self.lookback * (1 + initialvol))\n",
    "\n",
    "        if self.lookback > self.highest:\n",
    "            self.lookback = self.highest\n",
    "        elif\n",
    "          self.lookback < self.lowest:\n",
    "            self.lookback = self.lowest\n",
    "        self.high = self.History(self.Symbol, self.lookback, Resolution.Minute)[\"high\"]\n",
    "\n",
    "        if not self.Securities(self.Symbol).Invested and \\\n",
    "                self.Securities(self.Symbol).Close >= max(self.high[:-1]):\n",
    "                self.SetHoldings(self.Symbol, 1)\n",
    "                self.breakoutlevel = max(selt.high[:-1])\n",
    "                self.highestPrice = self.breakoutlevel\n",
    "        if self.Securities(self.Symbol).Invested:\n",
    "            if not self.Transactions.GetOpenOrders(self.symbol):\n",
    "                self.endMarketTicket = self.endMarketOrder(self.symbol, \\\n",
    "                                        -self.Portfolio[self.symbol].Quantity, \\\n",
    "                                        self.initialStopRisk * self.breakoutlevel)\n",
    "        if not self.Securities(self.Symbol).Close > self.highestPrice and \\\n",
    "                    self.initialStopRisk * self.breakoutlvl < self.Securities[self.symbol].Close * self.trailingStopRisk:\n",
    "                    self.highestPrice = self.Securities[self.symbol].Close\n",
    "                    updateFields = UpdateOrderFields()\n",
    "                    updateFields.stopPrice = self.Securities[self.Symbol] * self.trailingStopRisk\n",
    "                    self.endMarketTicket.Update(updateFields)\n",
    "                    self.Debug(updateFields.stopPrice)\n",
    "                    self.Plot(\"Data Chart\", \"Stop Price\", self.endMarketTicket.Get(OrderField.StopPrice))\n"
   ]
  }
 ],
 "metadata": {
  "kernelspec": {
   "display_name": "Python 3 (ipykernel)",
   "language": "python",
   "name": "python3"
  },
  "language_info": {
   "codemirror_mode": {
    "name": "ipython",
    "version": 3
   },
   "file_extension": ".py",
   "mimetype": "text/x-python",
   "name": "python",
   "nbconvert_exporter": "python",
   "pygments_lexer": "ipython3",
   "version": "3.9.7"
  }
 },
 "nbformat": 4,
 "nbformat_minor": 5
}
